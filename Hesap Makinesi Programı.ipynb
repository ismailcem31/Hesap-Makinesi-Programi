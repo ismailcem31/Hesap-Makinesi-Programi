{
 "cells": [
  {
   "cell_type": "code",
   "execution_count": null,
   "id": "4915d04b",
   "metadata": {},
   "outputs": [],
   "source": [
    "def topla(sayi1, sayi2):\n",
    "    return sayi1 + sayi2\n",
    " \n",
    "def cikar(sayi1, sayi2):\n",
    "    return sayi1 - sayi2\n",
    " \n",
    "def carp(sayi1, sayi2):\n",
    "    return sayi1 * sayi2\n",
    " \n",
    "def bol(sayi1, sayi2):\n",
    "    if sayi2 == 0:\n",
    "        return \"Tanımsız (Bir sayıyı sıfıra bölemezsiniz)\"\n",
    "    return sayi1 / sayi2\n",
    " \n",
    "def islem_secimi_goster():\n",
    "    islemler = [\"+\", \"-\", \"*\", \"/\"]\n",
    "    for islem in islemler:\n",
    "        print(islem)\n",
    " \n",
    "def kullanici_girdisi_al():\n",
    "    islem = input(\"Yapmak istediğiniz işlem tipini seçiniz: \")\n",
    "    sayi1 = int(input(\"Birinci sayıyı giriniz: \"))\n",
    "    sayi2 = int(input(\"İkinci sayıyı giriniz: \"))\n",
    "    return islem, sayi1, sayi2\n",
    " \n",
    "def hesap_makinesi():\n",
    "    islem_fonksiyonlari = {\n",
    "        \"+\": topla,\n",
    "        \"-\": cikar,\n",
    "        \"*\": carp,\n",
    "        \"/\": bol\n",
    "    }\n",
    " \n",
    "    devam = True\n",
    "    while devam:\n",
    "        islem_secimi_goster()\n",
    "        secilen_islem, sayi1, sayi2 = kullanici_girdisi_al()\n",
    "        \n",
    "        if secilen_islem in islem_fonksiyonlari:\n",
    "            sonuc = islem_fonksiyonlari[secilen_islem](sayi1, sayi2)\n",
    "            print(f\"{sayi1} {secilen_islem} {sayi2} = {sonuc}\")\n",
    "        else:\n",
    "            print(\"Geçersiz işlem seçimi!\")\n",
    " \n",
    "        devam_mi = input(\"Yeni bir işlem yapmak istiyor musunuz? ('Evet' ya da 'Hayır'): \")\n",
    "        if devam_mi.lower() != \"evet\":\n",
    "            devam = False\n",
    " \n",
    "hesap_makinesi()"
   ]
  }
 ],
 "metadata": {
  "kernelspec": {
   "display_name": "Python 3 (ipykernel)",
   "language": "python",
   "name": "python3"
  },
  "language_info": {
   "codemirror_mode": {
    "name": "ipython",
    "version": 3
   },
   "file_extension": ".py",
   "mimetype": "text/x-python",
   "name": "python",
   "nbconvert_exporter": "python",
   "pygments_lexer": "ipython3",
   "version": "3.11.3"
  }
 },
 "nbformat": 4,
 "nbformat_minor": 5
}
